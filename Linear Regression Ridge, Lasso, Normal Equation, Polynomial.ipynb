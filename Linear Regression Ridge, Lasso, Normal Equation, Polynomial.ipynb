{
 "cells": [
  {
   "cell_type": "code",
   "execution_count": 1,
   "id": "c23e3522",
   "metadata": {},
   "outputs": [],
   "source": [
    "%matplotlib notebook\n",
    "import matplotlib.pyplot as plt\n",
    "import pandas as pd \n",
    "import numpy as np \n",
    "from sklearn.model_selection import train_test_split\n",
    "from sklearn.datasets import load_diabetes\n",
    "\n",
    "\n",
    "def get_X_y_diabetes(features=None, verbose=False):\n",
    "    diabetes = load_diabetes()\n",
    "    X, y = diabetes.data, diabetes.target\n",
    "\n",
    "    if features is None:\n",
    "        print('Selecting all features')\n",
    "    elif type(features) == int or (type(features) == list and len(features) == 1):\n",
    "        print('Selecting one feature: {}'.format(features))\n",
    "        X = X[:, features].reshape(-1, 1)\n",
    "    elif type(features) == list:\n",
    "        print('Selecting features list: {}'.format(features))\n",
    "        X = X[:, features]\n",
    "    else:\n",
    "        print('Wrong format of parameter \"features\"')\n",
    "        return\n",
    "\n",
    "    X_train, X_test, y_train, y_test = train_test_split(X, y, random_state=2021)\n",
    "    if verbose:\n",
    "        print('X_train.shape =', X_train.shape)\n",
    "        print('y_train.shape =', y_train.shape)\n",
    "        print('X_test.shape =', X_test.shape)\n",
    "        print('y_test.shape =', y_test.shape)\n",
    "        print('X_train[:5] = \\n{}'.format(X_train[:5]))\n",
    "        print('y_train[:5] = \\n{}'.format(y_train[:5]))\n",
    "\n",
    "    return X_train, X_test, y_train, y_test\n"
   ]
  },
  {
   "cell_type": "code",
   "execution_count": 2,
   "id": "dfa48a34",
   "metadata": {},
   "outputs": [
    {
     "name": "stdout",
     "output_type": "stream",
     "text": [
      "Selecting all features\n",
      "X_train.shape = (331, 10)\n",
      "y_train.shape = (331,)\n",
      "X_test.shape = (111, 10)\n",
      "y_test.shape = (111,)\n",
      "X_train[:5] = \n",
      "[[-0.06363517 -0.04464164 -0.03315126 -0.03321323  0.00118295  0.02405115\n",
      "  -0.02499266 -0.00259226 -0.02251653 -0.05906719]\n",
      " [ 0.01264814 -0.04464164 -0.02560657 -0.04009893 -0.03046397 -0.04515466\n",
      "   0.0780932  -0.0763945  -0.07213275  0.01134862]\n",
      " [ 0.03807591  0.05068012  0.00888341  0.04252949 -0.04284755 -0.02104223\n",
      "  -0.03971921 -0.00259226 -0.01811369  0.00720652]\n",
      " [-0.07816532  0.05068012  0.07786339  0.05285804  0.07823631  0.0644473\n",
      "   0.02655027 -0.00259226  0.04067283 -0.00936191]\n",
      " [-0.07453279 -0.04464164 -0.0105172  -0.00567042 -0.06623874 -0.0570543\n",
      "  -0.00290283 -0.03949338 -0.04257085 -0.0010777 ]]\n",
      "y_train[:5] = \n",
      "[214.  98. 127. 233. 168.]\n"
     ]
    }
   ],
   "source": [
    "X_train, X_test, y_train, y_test=  get_X_y_diabetes(verbose= True)"
   ]
  },
  {
   "cell_type": "code",
   "execution_count": 3,
   "id": "47596e61",
   "metadata": {},
   "outputs": [
    {
     "name": "stdout",
     "output_type": "stream",
     "text": [
      "Ridge\n",
      "R2 train score = 0.5072634835482679\n",
      "R2 test score = 0.5260667062916088\n",
      "b: 149.98791540785498, \n",
      "w= [ -0.90572311 -11.39061084  26.93579377  11.85086621 -17.84354295\n",
      "   8.53902963  -3.14662357   6.51696437  28.8868917    3.77727244]\n"
     ]
    }
   ],
   "source": [
    "from sklearn.linear_model import Ridge\n",
    "from sklearn.preprocessing import StandardScaler\n",
    "\n",
    "ridge_reg = Ridge()\n",
    "\n",
    "scaler = StandardScaler()\n",
    "X_train_scaled = scaler.fit_transform(X_train)\n",
    "X_test_scaled = scaler.transform(X_test)\n",
    "ridge_reg.fit(X_train_scaled, y_train)\n",
    "\n",
    "regressor = ridge_reg\n",
    "\n",
    "print('Ridge')\n",
    "print('R2 train score =', regressor.score(X_train_scaled, y_train))\n",
    "print('R2 test score =', regressor.score(X_test_scaled, y_test))\n",
    "print('b: {}, \\nw= {}'.format(regressor.intercept_, regressor.coef_))\n"
   ]
  },
  {
   "cell_type": "code",
   "execution_count": 4,
   "id": "ebe58461",
   "metadata": {},
   "outputs": [
    {
     "name": "stdout",
     "output_type": "stream",
     "text": [
      "Lasso\n",
      "R2 train score = 0.5045236099772008\n",
      "R2 test score = 0.5149363101451062\n",
      "b: 149.98791540785498, \n",
      "w= [ -0.          -9.52587293  26.88368498  10.55544422  -2.57364251\n",
      "  -0.         -10.89617641   0.          23.96575213   2.90179342]\n"
     ]
    }
   ],
   "source": [
    "from sklearn.linear_model import Lasso\n",
    "lasso_reg=Lasso()\n",
    "lasso_reg.fit(X_train_scaled,y_train)\n",
    "regressor = lasso_reg\n",
    "print ('Lasso')\n",
    "print ('R2 train score =', regressor.score(X_train_scaled, y_train))\n",
    "print ('R2 test score =', regressor.score(X_test_scaled, y_test))\n",
    "print ('b: {}, \\nw= {}'.format(regressor.intercept_, regressor.coef_)) "
   ]
  },
  {
   "cell_type": "code",
   "execution_count": 5,
   "id": "3e96e156",
   "metadata": {},
   "outputs": [
    {
     "name": "stdout",
     "output_type": "stream",
     "text": [
      "X_train.shape=  (331, 10)\n",
      "X_train_poly.shape=  (331, 65)\n",
      "R2 train score = 0.6207811652108601\n",
      "R2 test score = 0.34719035173998225\n",
      "b: -1681524261172.5713, \n",
      "w= [ 4.82904572e+00 -1.11824709e+11  2.51026869e+01  1.21883834e+01\n",
      " -8.65984862e+02  7.60133884e+02  3.02678399e+02  7.73389275e+00\n",
      "  3.14776755e+02  4.57714081e+00  6.10873032e+00  8.59698772e+00\n",
      " -3.46611023e-01  2.06108475e+00  1.74999542e+01 -2.48349228e+01\n",
      " -2.37764549e+00  4.48545074e+00  3.02900314e+00 -2.49769592e+00\n",
      "  1.68152426e+12  5.28911924e+00  5.72957516e-01 -1.50340748e+00\n",
      "  4.13050222e+00  3.00952911e-01 -1.57152414e+01  3.84568334e+00\n",
      "  3.68915653e+00  2.68922997e+00  7.15040970e+00 -1.89044571e+00\n",
      "  1.39619446e+00  1.99351501e+00 -2.89397335e+00  9.06402588e-01\n",
      "  1.83226967e+00 -8.28521729e-01  3.38213882e+01 -2.78085098e+01\n",
      " -8.48054218e+00  6.85974693e+00 -1.17716703e+01 -5.07866096e+00\n",
      "  2.00360605e+02 -2.61299120e+02 -1.57314177e+02 -8.24574966e+01\n",
      " -6.02805595e+01 -1.12228355e+01  8.52747593e+01  9.79165955e+01\n",
      "  4.55630836e+01  2.77383423e+01  2.14544678e+00  2.73181114e+01\n",
      "  2.08044052e+01  2.44951639e+01  2.36985068e+01  8.82111263e+00\n",
      "  2.08418751e+01  2.01900806e+01  6.80727003e+01  7.27419472e+00\n",
      "  3.98530769e+00]\n"
     ]
    }
   ],
   "source": [
    "from sklearn.linear_model import LinearRegression\n",
    "from sklearn.preprocessing import PolynomialFeatures\n",
    "poly= PolynomialFeatures(degree=2,include_bias=False)\n",
    "X_train_poly= poly.fit_transform(X_train_scaled)\n",
    "X_test_poly = poly.transform(X_test_scaled)\n",
    "print ('X_train.shape= ',X_train.shape)\n",
    "print ('X_train_poly.shape= ',X_train_poly.shape)\n",
    "poly_lin_reg = LinearRegression().fit (X_train_poly,y_train)\n",
    "regressor = poly_lin_reg\n",
    "print ('R2 train score =', regressor.score(X_train_poly, y_train))\n",
    "print ('R2 test score =', regressor.score(X_test_poly, y_test))\n",
    "print ('b: {}, \\nw= {}'.format(regressor.intercept_, regressor.coef_))"
   ]
  },
  {
   "cell_type": "code",
   "execution_count": null,
   "id": "0fd126f6",
   "metadata": {},
   "outputs": [],
   "source": []
  }
 ],
 "metadata": {
  "kernelspec": {
   "display_name": "Python 3 (ipykernel)",
   "language": "python",
   "name": "python3"
  },
  "language_info": {
   "codemirror_mode": {
    "name": "ipython",
    "version": 3
   },
   "file_extension": ".py",
   "mimetype": "text/x-python",
   "name": "python",
   "nbconvert_exporter": "python",
   "pygments_lexer": "ipython3",
   "version": "3.11.5"
  }
 },
 "nbformat": 4,
 "nbformat_minor": 5
}
